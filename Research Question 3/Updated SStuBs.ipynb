{
 "cells": [
  {
   "cell_type": "code",
   "execution_count": 24,
   "id": "20ec666b-03df-4226-96b1-adf45e1f609e",
   "metadata": {},
   "outputs": [],
   "source": [
    "import json\n",
    "import scipy.stats as stats\n",
    "import matplotlib.pyplot as plt\n",
    "import numpy as np\n",
    "import pandas as pd\n",
    "from tqdm import tqdm"
   ]
  },
  {
   "cell_type": "code",
   "execution_count": 15,
   "id": "cfe92529-fd4b-42c3-bc18-c53c6cb332b1",
   "metadata": {},
   "outputs": [],
   "source": [
    "dtype_spec = {\n",
    "    'fixCommitSHA1': str,\n",
    "    'introducingCommitSHA': str,\n",
    "    'projectName': str,\n",
    "    'bugFilePath': str,\n",
    "    'bugLineNum': 'Int64',  # Allows for missing integers (nullable type)\n",
    "    'bugType': str,\n",
    "    'reviewer_count': 'Int64',\n",
    "    'introducingCommitHasPR': bool,\n",
    "    'sstub_introduced': 'Int64'\n",
    "}\n",
    "\n",
    "df = pd.read_csv(\"rq1_dataset.csv\", dtype=dtype_spec).to_dict(orient='records')"
   ]
  },
  {
   "cell_type": "code",
   "execution_count": 16,
   "id": "d7081cf6-d4a9-4e7e-a396-bb3529962959",
   "metadata": {},
   "outputs": [],
   "source": [
    "filtered_df = [\n",
    "    row for row in df\n",
    "    if row['introducingCommitHasPR'] is True and row['sstub_introduced'] == 1\n",
    "]"
   ]
  },
  {
   "cell_type": "code",
   "execution_count": 18,
   "id": "26cac98c-482a-4f01-9d02-e0258a7bcf8f",
   "metadata": {},
   "outputs": [
    {
     "name": "stdout",
     "output_type": "stream",
     "text": [
      "24920\n",
      "1675\n"
     ]
    }
   ],
   "source": [
    "print(len(df))\n",
    "print(len(filtered_df))"
   ]
  },
  {
   "cell_type": "code",
   "execution_count": 30,
   "id": "3eed4df4-de51-4949-8fb7-3530bae5732b",
   "metadata": {},
   "outputs": [],
   "source": [
    "# Load Dataset\n",
    "with open(f'augmented_dataset.json', 'r', encoding='utf-8-sig') as file:\n",
    "    dataset = json.load(file)"
   ]
  },
  {
   "cell_type": "code",
   "execution_count": 20,
   "id": "b08a1cc8-4927-4bdc-a683-7265dd993a17",
   "metadata": {},
   "outputs": [
    {
     "name": "stdout",
     "output_type": "stream",
     "text": [
      "<class 'list'>\n",
      "<class 'list'>\n"
     ]
    }
   ],
   "source": [
    "print(type(df))\n",
    "print(type(dataset))"
   ]
  },
  {
   "cell_type": "code",
   "execution_count": 23,
   "id": "efb1b031-fe9a-463a-9c1c-cb78c86f3b58",
   "metadata": {},
   "outputs": [
    {
     "name": "stdout",
     "output_type": "stream",
     "text": [
      "7eabea151cf\n",
      "{'url': 'https://api.github.com/repos/checkstyle/checkstyle/pulls/16617', 'commitSHAs': ['bcbdf0051fddb89969dbac50757e933cb38125a4'], 'linesAdded': 1, 'linesRemoved': 1, 'linesChanged': 2, 'filesChanged': 1, 'sstubs': []}\n"
     ]
    }
   ],
   "source": [
    "print(filtered_df[0][\"introducingCommitSHA\"])\n",
    "print(dataset[0])"
   ]
  },
  {
   "cell_type": "code",
   "execution_count": 31,
   "id": "a113d6fb-39e5-4715-ab6f-c9f5d31393c6",
   "metadata": {},
   "outputs": [
    {
     "name": "stderr",
     "output_type": "stream",
     "text": [
      " 22%|████████████████▋                                                           | 7504/34069 [00:08<00:44, 590.56it/s]"
     ]
    },
    {
     "name": "stdout",
     "output_type": "stream",
     "text": [
      "found one\n",
      "found one\n",
      "found one\n",
      "found one\n"
     ]
    },
    {
     "name": "stderr",
     "output_type": "stream",
     "text": [
      " 23%|█████████████████▍                                                          | 7792/34069 [00:08<00:37, 703.90it/s]"
     ]
    },
    {
     "name": "stdout",
     "output_type": "stream",
     "text": [
      "found one\n",
      "found one\n"
     ]
    },
    {
     "name": "stderr",
     "output_type": "stream",
     "text": [
      " 39%|█████████████████████████████▌                                             | 13438/34069 [00:18<00:29, 697.29it/s]"
     ]
    },
    {
     "name": "stdout",
     "output_type": "stream",
     "text": [
      "found one\n",
      "found one\n"
     ]
    },
    {
     "name": "stderr",
     "output_type": "stream",
     "text": [
      " 41%|██████████████████████████████▊                                            | 13992/34069 [00:19<00:27, 732.96it/s]"
     ]
    },
    {
     "name": "stdout",
     "output_type": "stream",
     "text": [
      "found one\n"
     ]
    },
    {
     "name": "stderr",
     "output_type": "stream",
     "text": [
      " 43%|████████████████████████████████▏                                          | 14634/34069 [00:19<00:19, 980.54it/s]"
     ]
    },
    {
     "name": "stdout",
     "output_type": "stream",
     "text": [
      "found one\n"
     ]
    },
    {
     "name": "stderr",
     "output_type": "stream",
     "text": [
      " 44%|████████████████████████████████▊                                          | 14933/34069 [00:20<00:26, 732.75it/s]"
     ]
    },
    {
     "name": "stdout",
     "output_type": "stream",
     "text": [
      "found one\n",
      "found one\n",
      "found one\n",
      "found one\n",
      "found one\n",
      "found one\n",
      "found one\n",
      "found one\n"
     ]
    },
    {
     "name": "stderr",
     "output_type": "stream",
     "text": [
      " 44%|█████████████████████████████████▏                                         | 15081/34069 [00:20<00:37, 501.46it/s]"
     ]
    },
    {
     "name": "stdout",
     "output_type": "stream",
     "text": [
      "found one\n"
     ]
    },
    {
     "name": "stderr",
     "output_type": "stream",
     "text": [
      " 45%|█████████████████████████████████▍                                         | 15210/34069 [00:20<00:35, 538.35it/s]"
     ]
    },
    {
     "name": "stdout",
     "output_type": "stream",
     "text": [
      "found one\n",
      "found one\n",
      "found one\n",
      "found one\n"
     ]
    },
    {
     "name": "stderr",
     "output_type": "stream",
     "text": [
      " 45%|██████████████████████████████████                                         | 15455/34069 [00:21<00:39, 475.65it/s]"
     ]
    },
    {
     "name": "stdout",
     "output_type": "stream",
     "text": [
      "found one\n",
      "found one\n",
      "found one\n",
      "found one\n"
     ]
    },
    {
     "name": "stderr",
     "output_type": "stream",
     "text": [
      " 46%|██████████████████████████████████▍                                        | 15626/34069 [00:22<00:43, 424.76it/s]"
     ]
    },
    {
     "name": "stdout",
     "output_type": "stream",
     "text": [
      "found one\n",
      "found one\n"
     ]
    },
    {
     "name": "stderr",
     "output_type": "stream",
     "text": [
      " 46%|██████████████████████████████████▊                                        | 15837/34069 [00:22<00:31, 575.36it/s]"
     ]
    },
    {
     "name": "stdout",
     "output_type": "stream",
     "text": [
      "found one\n",
      "found one\n",
      "found one\n",
      "found one\n",
      "found one\n",
      "found one\n",
      "found one\n"
     ]
    },
    {
     "name": "stderr",
     "output_type": "stream",
     "text": [
      " 47%|███████████████████████████████████▎                                       | 16048/34069 [00:22<00:22, 794.76it/s]"
     ]
    },
    {
     "name": "stdout",
     "output_type": "stream",
     "text": [
      "found one\n",
      "found one\n",
      "found one\n"
     ]
    },
    {
     "name": "stderr",
     "output_type": "stream",
     "text": [
      " 47%|███████████████████████████████████▌                                       | 16132/34069 [00:22<00:25, 698.05it/s]"
     ]
    },
    {
     "name": "stdout",
     "output_type": "stream",
     "text": [
      "found one\n",
      "found one\n",
      "found one\n"
     ]
    },
    {
     "name": "stderr",
     "output_type": "stream",
     "text": [
      " 48%|███████████████████████████████████▉                                       | 16336/34069 [00:23<00:31, 567.39it/s]"
     ]
    },
    {
     "name": "stdout",
     "output_type": "stream",
     "text": [
      "found one\n",
      "found one\n",
      "found one\n"
     ]
    },
    {
     "name": "stderr",
     "output_type": "stream",
     "text": [
      " 49%|████████████████████████████████████▌                                      | 16604/34069 [00:23<00:23, 757.50it/s]"
     ]
    },
    {
     "name": "stdout",
     "output_type": "stream",
     "text": [
      "found one\n",
      "found one\n",
      "found one\n",
      "found one\n",
      "found one\n",
      "found one\n",
      "found one\n",
      "found one\n",
      "found one\n",
      "found one\n",
      "found one\n",
      "found one\n",
      "found one\n",
      "found one\n",
      "found one\n",
      "found one\n"
     ]
    },
    {
     "name": "stderr",
     "output_type": "stream",
     "text": [
      " 49%|████████████████████████████████████▊                                      | 16737/34069 [00:23<00:19, 888.78it/s]"
     ]
    },
    {
     "name": "stdout",
     "output_type": "stream",
     "text": [
      "found one\n",
      "found one\n",
      "found one\n",
      "found one\n",
      "found one\n",
      "found one\n",
      "found one\n",
      "found one\n"
     ]
    },
    {
     "name": "stderr",
     "output_type": "stream",
     "text": [
      " 50%|█████████████████████████████████████▌                                     | 17071/34069 [00:24<00:19, 856.58it/s]"
     ]
    },
    {
     "name": "stdout",
     "output_type": "stream",
     "text": [
      "found one\n",
      "found one\n",
      "found one\n",
      "found one\n",
      "found one\n",
      "found one\n",
      "found one\n",
      "found one\n",
      "found one\n"
     ]
    },
    {
     "name": "stderr",
     "output_type": "stream",
     "text": [
      " 52%|██████████████████████████████████████▋                                    | 17554/34069 [00:24<00:20, 791.61it/s]"
     ]
    },
    {
     "name": "stdout",
     "output_type": "stream",
     "text": [
      "found one\n",
      "found one\n"
     ]
    },
    {
     "name": "stderr",
     "output_type": "stream",
     "text": [
      " 53%|███████████████████████████████████████▌                                   | 17981/34069 [00:25<00:18, 890.83it/s]"
     ]
    },
    {
     "name": "stdout",
     "output_type": "stream",
     "text": [
      "found one\n",
      "found one\n",
      "found one\n",
      "found one\n",
      "found one\n",
      "found one\n"
     ]
    },
    {
     "name": "stderr",
     "output_type": "stream",
     "text": [
      " 54%|████████████████████████████████████████▌                                  | 18425/34069 [00:25<00:21, 741.64it/s]"
     ]
    },
    {
     "name": "stdout",
     "output_type": "stream",
     "text": [
      "found one\n",
      "found one\n",
      "found one\n",
      "found one\n",
      "found one\n",
      "found one\n"
     ]
    },
    {
     "name": "stderr",
     "output_type": "stream",
     "text": [
      " 54%|████████████████████████████████████████▋                                  | 18508/34069 [00:26<00:27, 568.02it/s]"
     ]
    },
    {
     "name": "stdout",
     "output_type": "stream",
     "text": [
      "found one\n",
      "found one\n",
      "found one\n",
      "found one\n",
      "found one\n"
     ]
    },
    {
     "name": "stderr",
     "output_type": "stream",
     "text": [
      " 55%|█████████████████████████████████████████▎                                 | 18742/34069 [00:26<00:34, 447.72it/s]"
     ]
    },
    {
     "name": "stdout",
     "output_type": "stream",
     "text": [
      "found one\n"
     ]
    },
    {
     "name": "stderr",
     "output_type": "stream",
     "text": [
      " 56%|█████████████████████████████████████████▋                                 | 18931/34069 [00:27<00:39, 381.87it/s]"
     ]
    },
    {
     "name": "stdout",
     "output_type": "stream",
     "text": [
      "found one\n",
      "found one\n",
      "found one\n",
      "found one\n",
      "found one\n",
      "found one\n",
      "found one\n",
      "found one\n",
      "found one\n",
      "found one\n",
      "found one\n",
      "found one\n",
      "found one\n"
     ]
    },
    {
     "name": "stderr",
     "output_type": "stream",
     "text": [
      " 61%|█████████████████████████████████████████████▍                             | 20633/34069 [00:32<00:34, 395.06it/s]"
     ]
    },
    {
     "name": "stdout",
     "output_type": "stream",
     "text": [
      "found one\n",
      "found one\n"
     ]
    },
    {
     "name": "stderr",
     "output_type": "stream",
     "text": [
      " 63%|██████████████████████████████████████████████▉                            | 21346/34069 [00:34<00:27, 468.53it/s]"
     ]
    },
    {
     "name": "stdout",
     "output_type": "stream",
     "text": [
      "found one\n",
      "found one\n",
      "found one\n",
      "found one\n",
      "found one\n",
      "found one\n",
      "found one\n",
      "found one\n",
      "found one\n",
      "found one\n"
     ]
    },
    {
     "name": "stderr",
     "output_type": "stream",
     "text": [
      " 63%|███████████████████████████████████████████████▌                           | 21611/34069 [00:34<00:19, 647.51it/s]"
     ]
    },
    {
     "name": "stdout",
     "output_type": "stream",
     "text": [
      "found one\n",
      "found one\n",
      "found one\n",
      "found one\n",
      "found one\n"
     ]
    },
    {
     "name": "stderr",
     "output_type": "stream",
     "text": [
      " 64%|███████████████████████████████████████████████▊                           | 21736/34069 [00:35<00:28, 437.71it/s]"
     ]
    },
    {
     "name": "stdout",
     "output_type": "stream",
     "text": [
      "found one\n",
      "found one\n",
      "found one\n",
      "found one\n",
      "found one\n",
      "found one\n",
      "found one\n",
      "found one\n",
      "found one\n",
      "found one\n",
      "found one\n",
      "found one\n",
      "found one\n"
     ]
    },
    {
     "name": "stderr",
     "output_type": "stream",
     "text": [
      " 64%|███████████████████████████████████████████████▉                           | 21786/34069 [00:35<00:30, 396.98it/s]"
     ]
    },
    {
     "name": "stdout",
     "output_type": "stream",
     "text": [
      "found one\n",
      "found one\n"
     ]
    },
    {
     "name": "stderr",
     "output_type": "stream",
     "text": [
      " 84%|███████████████████████████████████████████████████████████████            | 28648/34069 [00:43<00:07, 691.77it/s]"
     ]
    },
    {
     "name": "stdout",
     "output_type": "stream",
     "text": [
      "found one\n",
      "found one\n",
      "found one\n",
      "found one\n",
      "found one\n"
     ]
    },
    {
     "name": "stderr",
     "output_type": "stream",
     "text": [
      " 85%|███████████████████████████████████████████████████████████████▋           | 28924/34069 [00:44<00:07, 675.58it/s]"
     ]
    },
    {
     "name": "stdout",
     "output_type": "stream",
     "text": [
      "found one\n"
     ]
    },
    {
     "name": "stderr",
     "output_type": "stream",
     "text": [
      " 86%|████████████████████████████████████████████████████████████████▍          | 29248/34069 [00:44<00:06, 734.26it/s]"
     ]
    },
    {
     "name": "stdout",
     "output_type": "stream",
     "text": [
      "found one\n",
      "found one\n"
     ]
    },
    {
     "name": "stderr",
     "output_type": "stream",
     "text": [
      " 87%|█████████████████████████████████████████████████████████████████▌         | 29797/34069 [00:45<00:05, 768.78it/s]"
     ]
    },
    {
     "name": "stdout",
     "output_type": "stream",
     "text": [
      "found one\n",
      "found one\n",
      "found one\n",
      "found one\n",
      "found one\n",
      "found one\n"
     ]
    },
    {
     "name": "stderr",
     "output_type": "stream",
     "text": [
      " 88%|██████████████████████████████████████████████████████████████████▏        | 30042/34069 [00:45<00:06, 667.59it/s]"
     ]
    },
    {
     "name": "stdout",
     "output_type": "stream",
     "text": [
      "found one\n",
      "found one\n"
     ]
    },
    {
     "name": "stderr",
     "output_type": "stream",
     "text": [
      " 90%|███████████████████████████████████████████████████████████████████▏       | 30546/34069 [00:46<00:05, 618.19it/s]"
     ]
    },
    {
     "name": "stdout",
     "output_type": "stream",
     "text": [
      "found one\n",
      "found one\n",
      "found one\n"
     ]
    },
    {
     "name": "stderr",
     "output_type": "stream",
     "text": [
      " 90%|███████████████████████████████████████████████████████████████████▊       | 30819/34069 [00:47<00:05, 555.00it/s]"
     ]
    },
    {
     "name": "stdout",
     "output_type": "stream",
     "text": [
      "found one\n"
     ]
    },
    {
     "name": "stderr",
     "output_type": "stream",
     "text": [
      " 91%|███████████████████████████████████████████████████████████████████▉       | 30878/34069 [00:47<00:07, 441.90it/s]"
     ]
    },
    {
     "name": "stdout",
     "output_type": "stream",
     "text": [
      "found one\n"
     ]
    },
    {
     "name": "stderr",
     "output_type": "stream",
     "text": [
      " 91%|████████████████████████████████████████████████████████████████████▍      | 31092/34069 [00:47<00:05, 549.26it/s]"
     ]
    },
    {
     "name": "stdout",
     "output_type": "stream",
     "text": [
      "found one\n"
     ]
    },
    {
     "name": "stderr",
     "output_type": "stream",
     "text": [
      " 92%|████████████████████████████████████████████████████████████████████▊      | 31238/34069 [00:47<00:04, 624.50it/s]"
     ]
    },
    {
     "name": "stdout",
     "output_type": "stream",
     "text": [
      "found one\n",
      "found one\n",
      "found one\n",
      "found one\n"
     ]
    },
    {
     "name": "stderr",
     "output_type": "stream",
     "text": [
      " 92%|█████████████████████████████████████████████████████████████████████      | 31377/34069 [00:48<00:04, 607.49it/s]"
     ]
    },
    {
     "name": "stdout",
     "output_type": "stream",
     "text": [
      "found one\n",
      "found one\n",
      "found one\n"
     ]
    },
    {
     "name": "stderr",
     "output_type": "stream",
     "text": [
      " 92%|█████████████████████████████████████████████████████████████████████▎     | 31496/34069 [00:48<00:05, 481.33it/s]"
     ]
    },
    {
     "name": "stdout",
     "output_type": "stream",
     "text": [
      "found one\n",
      "found one\n",
      "found one\n",
      "found one\n",
      "found one\n",
      "found one\n",
      "found one\n",
      "found one\n",
      "found one\n",
      "found one\n",
      "found one\n"
     ]
    },
    {
     "name": "stderr",
     "output_type": "stream",
     "text": [
      " 93%|█████████████████████████████████████████████████████████████████████▌     | 31597/34069 [00:48<00:04, 592.72it/s]"
     ]
    },
    {
     "name": "stdout",
     "output_type": "stream",
     "text": [
      "found one\n",
      "found one\n",
      "found one\n",
      "found one\n",
      "found one\n",
      "found one\n"
     ]
    },
    {
     "name": "stderr",
     "output_type": "stream",
     "text": [
      " 93%|█████████████████████████████████████████████████████████████████████▉     | 31756/34069 [00:48<00:03, 643.42it/s]"
     ]
    },
    {
     "name": "stdout",
     "output_type": "stream",
     "text": [
      "found one\n",
      "found one\n",
      "found one\n"
     ]
    },
    {
     "name": "stderr",
     "output_type": "stream",
     "text": [
      " 94%|██████████████████████████████████████████████████████████████████████▏    | 31887/34069 [00:48<00:03, 599.66it/s]"
     ]
    },
    {
     "name": "stdout",
     "output_type": "stream",
     "text": [
      "found one\n",
      "found one\n",
      "found one\n",
      "found one\n",
      "found one\n",
      "found one\n",
      "found one\n",
      "found one\n",
      "found one\n",
      "found one\n"
     ]
    },
    {
     "name": "stderr",
     "output_type": "stream",
     "text": [
      " 94%|██████████████████████████████████████████████████████████████████████▋    | 32130/34069 [00:49<00:02, 677.64it/s]"
     ]
    },
    {
     "name": "stdout",
     "output_type": "stream",
     "text": [
      "found one\n",
      "found one\n",
      "found one\n",
      "found one\n",
      "found one\n",
      "found one\n",
      "found one\n"
     ]
    },
    {
     "name": "stderr",
     "output_type": "stream",
     "text": [
      " 95%|███████████████████████████████████████████████████████████████████████▏   | 32341/34069 [00:49<00:02, 841.10it/s]"
     ]
    },
    {
     "name": "stdout",
     "output_type": "stream",
     "text": [
      "found one\n",
      "found one\n",
      "found one\n",
      "found one\n",
      "found one\n",
      "found one\n",
      "found one\n",
      "found one\n",
      "found one\n",
      "found one\n",
      "found one\n",
      "found one\n",
      "found one\n",
      "found one\n",
      "found one\n",
      "found one\n",
      "found one\n",
      "found one\n",
      "found one\n",
      "found one\n",
      "found one\n"
     ]
    },
    {
     "name": "stderr",
     "output_type": "stream",
     "text": [
      " 96%|███████████████████████████████████████████████████████████████████████▋   | 32590/34069 [00:49<00:01, 889.13it/s]"
     ]
    },
    {
     "name": "stdout",
     "output_type": "stream",
     "text": [
      "found one\n",
      "found one\n",
      "found one\n",
      "found one\n",
      "found one\n",
      "found one\n",
      "found one\n",
      "found one\n",
      "found one\n",
      "found one\n",
      "found one\n",
      "found one\n"
     ]
    },
    {
     "name": "stderr",
     "output_type": "stream",
     "text": [
      " 96%|████████████████████████████████████████████████████████████████████████▎  | 32825/34069 [00:49<00:01, 945.63it/s]"
     ]
    },
    {
     "name": "stdout",
     "output_type": "stream",
     "text": [
      "found one\n",
      "found one\n",
      "found one\n",
      "found one\n",
      "found one\n",
      "found one\n",
      "found one\n",
      "found one\n",
      "found one\n",
      "found one\n"
     ]
    },
    {
     "name": "stderr",
     "output_type": "stream",
     "text": [
      " 97%|████████████████████████████████████████████████████████████████████████▋  | 33009/34069 [00:50<00:01, 798.36it/s]"
     ]
    },
    {
     "name": "stdout",
     "output_type": "stream",
     "text": [
      "found one\n",
      "found one\n",
      "found one\n",
      "found one\n",
      "found one\n",
      "found one\n",
      "found one\n",
      "found one\n",
      "found one\n",
      "found one\n",
      "found one\n",
      "found one\n",
      "found one\n",
      "found one\n",
      "found one\n"
     ]
    },
    {
     "name": "stderr",
     "output_type": "stream",
     "text": [
      " 97%|████████████████████████████████████████████████████████████████████████▉  | 33159/34069 [00:50<00:01, 474.28it/s]"
     ]
    },
    {
     "name": "stdout",
     "output_type": "stream",
     "text": [
      "found one\n",
      "found one\n",
      "found one\n"
     ]
    },
    {
     "name": "stderr",
     "output_type": "stream",
     "text": [
      " 98%|█████████████████████████████████████████████████████████████████████████▏ | 33268/34069 [00:51<00:01, 400.75it/s]"
     ]
    },
    {
     "name": "stdout",
     "output_type": "stream",
     "text": [
      "found one\n",
      "found one\n",
      "found one\n",
      "found one\n",
      "found one\n",
      "found one\n",
      "found one\n",
      "found one\n",
      "found one\n",
      "found one\n"
     ]
    },
    {
     "name": "stderr",
     "output_type": "stream",
     "text": [
      " 98%|█████████████████████████████████████████████████████████████████████████▎ | 33316/34069 [00:51<00:01, 385.96it/s]"
     ]
    },
    {
     "name": "stdout",
     "output_type": "stream",
     "text": [
      "found one\n"
     ]
    },
    {
     "name": "stderr",
     "output_type": "stream",
     "text": [
      " 98%|█████████████████████████████████████████████████████████████████████████▋ | 33446/34069 [00:51<00:01, 342.58it/s]"
     ]
    },
    {
     "name": "stdout",
     "output_type": "stream",
     "text": [
      "found one\n",
      "found one\n",
      "found one\n",
      "found one\n",
      "found one\n",
      "found one\n"
     ]
    },
    {
     "name": "stderr",
     "output_type": "stream",
     "text": [
      " 99%|█████████████████████████████████████████████████████████████████████████▉ | 33597/34069 [00:52<00:01, 334.22it/s]"
     ]
    },
    {
     "name": "stdout",
     "output_type": "stream",
     "text": [
      "found one\n"
     ]
    },
    {
     "name": "stderr",
     "output_type": "stream",
     "text": [
      " 99%|██████████████████████████████████████████████████████████████████████████▎| 33765/34069 [00:52<00:00, 336.61it/s]"
     ]
    },
    {
     "name": "stdout",
     "output_type": "stream",
     "text": [
      "found one\n",
      "found one\n",
      "found one\n"
     ]
    },
    {
     "name": "stderr",
     "output_type": "stream",
     "text": [
      "100%|███████████████████████████████████████████████████████████████████████████| 34069/34069 [00:53<00:00, 633.28it/s]\n"
     ]
    }
   ],
   "source": [
    "for pr in tqdm(dataset):\n",
    "    for sha in pr[\"commitSHAs\"]:\n",
    "        for sstub in filtered_df:\n",
    "            if sha.startswith(sstub[\"introducingCommitSHA\"]):\n",
    "                pr[\"sstubs\"].append({\n",
    "                    \"sha\": sha,\n",
    "                    \"bugType\": sstub[\"bugType\"]\n",
    "                })\n",
    "                print(\"found one\")"
   ]
  },
  {
   "cell_type": "code",
   "execution_count": 32,
   "id": "4ab87f35-a8ee-4fc8-b99b-9d3dfd339f09",
   "metadata": {},
   "outputs": [],
   "source": [
    "with open(\"updated_dataset.json\", \"w\") as file:\n",
    "    json.dump(dataset, file, indent=4)"
   ]
  },
  {
   "cell_type": "code",
   "execution_count": 29,
   "id": "77a43a8b-25a1-470e-bb89-bfe82ffab593",
   "metadata": {},
   "outputs": [
    {
     "name": "stdout",
     "output_type": "stream",
     "text": [
      "{'url': 'https://api.github.com/repos/NLPchina/ansj_seg/pulls/692', 'commitSHAs': ['f4c46143d0849434e741b66eebfe54eeeb70255c', 'd04bcfe283dd347f6cd5fab9482308e3a7f1d4f6'], 'linesAdded': 3, 'linesRemoved': 2, 'linesChanged': 5, 'filesChanged': 3, 'sstubs': []}\n"
     ]
    }
   ],
   "source": [
    "print(dataset[7559])"
   ]
  },
  {
   "cell_type": "code",
   "execution_count": null,
   "id": "181fa5d1-4411-4a09-88fe-bd8021a2ca63",
   "metadata": {},
   "outputs": [],
   "source": []
  }
 ],
 "metadata": {
  "kernelspec": {
   "display_name": "Python 3 (ipykernel)",
   "language": "python",
   "name": "python3"
  },
  "language_info": {
   "codemirror_mode": {
    "name": "ipython",
    "version": 3
   },
   "file_extension": ".py",
   "mimetype": "text/x-python",
   "name": "python",
   "nbconvert_exporter": "python",
   "pygments_lexer": "ipython3",
   "version": "3.12.0"
  }
 },
 "nbformat": 4,
 "nbformat_minor": 5
}
