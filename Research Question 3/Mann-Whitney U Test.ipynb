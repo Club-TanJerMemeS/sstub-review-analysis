{
 "cells": [
  {
   "cell_type": "code",
   "execution_count": 2,
   "id": "41f90f3d-8bde-460a-9325-3ab6507cd016",
   "metadata": {},
   "outputs": [],
   "source": [
    "import json\n",
    "import scipy.stats as stats\n",
    "import matplotlib.pyplot as plt\n",
    "import numpy as np\n",
    "import pandas as pd"
   ]
  },
  {
   "cell_type": "code",
   "execution_count": 3,
   "id": "65724685-4556-40af-bd83-d7138732aef0",
   "metadata": {},
   "outputs": [],
   "source": [
    "# Load Dataset\n",
    "with open(f'updated_dataset.json', 'r', encoding='utf-8-sig') as file:\n",
    "    dataset = json.load(file)"
   ]
  },
  {
   "cell_type": "code",
   "execution_count": 4,
   "id": "be59444a-2d65-4a29-840b-0fd366faf69b",
   "metadata": {},
   "outputs": [],
   "source": [
    "labels = [\"Lines Changed\", \"Filed Changed\", \"Lines Added\", \"Lines Removed\"]\n",
    "u_statistics = []\n",
    "p_values = []"
   ]
  },
  {
   "cell_type": "markdown",
   "id": "12bb58b5-a518-4946-951d-517777557247",
   "metadata": {},
   "source": [
    "## Lines Changed Mann-Whitney U Test"
   ]
  },
  {
   "cell_type": "code",
   "execution_count": 5,
   "id": "9f7ad073-b9f5-4edb-bcfb-7ef1cc8d8402",
   "metadata": {},
   "outputs": [],
   "source": [
    "sstub_lines_changed = [pr['linesChanged'] for pr in dataset if pr['sstubs']]\n",
    "non_sstub_lines_changed = [pr['linesChanged'] for pr in dataset if not pr['sstubs']]"
   ]
  },
  {
   "cell_type": "code",
   "execution_count": 6,
   "id": "9f4e3bfe-787c-41a0-a023-fa5db841fb30",
   "metadata": {},
   "outputs": [],
   "source": [
    "u_statistic, p_value = stats.mannwhitneyu(sstub_lines_changed, non_sstub_lines_changed, alternative='two-sided')\n",
    "u_statistics.append(float(u_statistic))\n",
    "p_values.append(float(p_value))"
   ]
  },
  {
   "cell_type": "code",
   "execution_count": 7,
   "id": "4bf26680-ca13-4aea-9cd6-3b21b5f6193a",
   "metadata": {},
   "outputs": [
    {
     "name": "stdout",
     "output_type": "stream",
     "text": [
      "U-statistic: 4196797.5\n",
      "P-value: 1.2611699078799305e-51\n"
     ]
    }
   ],
   "source": [
    "print(f\"U-statistic: {u_statistic}\")\n",
    "print(f\"P-value: {p_value}\")"
   ]
  },
  {
   "cell_type": "markdown",
   "id": "6f44ffc8-cfe5-482d-8844-b9883738e13f",
   "metadata": {},
   "source": [
    "## Files Changed Mann-Whitney U Test"
   ]
  },
  {
   "cell_type": "code",
   "execution_count": 8,
   "id": "f21f6d93-e906-4f72-9f85-195ff474085f",
   "metadata": {},
   "outputs": [],
   "source": [
    "sstub_files_changed = [pr['filesChanged'] for pr in dataset if pr['sstubs']]\n",
    "non_sstub_files_changed = [pr['filesChanged'] for pr in dataset if not pr['sstubs']]"
   ]
  },
  {
   "cell_type": "code",
   "execution_count": 9,
   "id": "72053339-91c8-4d6e-9a38-28ff248a0aaf",
   "metadata": {},
   "outputs": [],
   "source": [
    "u_statistic, p_value = stats.mannwhitneyu(sstub_files_changed, non_sstub_files_changed, alternative='two-sided')\n",
    "u_statistics.append(float(u_statistic))\n",
    "p_values.append(float(p_value))"
   ]
  },
  {
   "cell_type": "code",
   "execution_count": 10,
   "id": "ff6bf699-421a-44cd-9697-4e7fd333c71d",
   "metadata": {},
   "outputs": [
    {
     "name": "stdout",
     "output_type": "stream",
     "text": [
      "U-statistic: 4157586.5\n",
      "P-value: 6.389377699407586e-52\n"
     ]
    }
   ],
   "source": [
    "print(f\"U-statistic: {u_statistic}\")\n",
    "print(f\"P-value: {p_value}\")"
   ]
  },
  {
   "cell_type": "markdown",
   "id": "bdc4ff6f-3379-4613-86b6-d2633f1984f1",
   "metadata": {},
   "source": [
    "## Lines Added Mann-Whitney U Test"
   ]
  },
  {
   "cell_type": "code",
   "execution_count": 11,
   "id": "386e366a-66a8-4001-ae52-260c2cc012c1",
   "metadata": {},
   "outputs": [],
   "source": [
    "sstub_add_lines = [pr['linesAdded'] for pr in dataset if pr['sstubs']]\n",
    "non_sstub_add_lines = [pr['linesAdded'] for pr in dataset if not pr['sstubs']]"
   ]
  },
  {
   "cell_type": "code",
   "execution_count": 12,
   "id": "3a938d26-3067-4dab-b49e-067b5b3c5b41",
   "metadata": {},
   "outputs": [],
   "source": [
    "u_statistic, p_value = stats.mannwhitneyu(sstub_add_lines, non_sstub_add_lines, alternative='two-sided')\n",
    "u_statistics.append(float(u_statistic))\n",
    "p_values.append(float(p_value))"
   ]
  },
  {
   "cell_type": "code",
   "execution_count": 13,
   "id": "6de38181-5144-4649-bf73-205e0891e356",
   "metadata": {},
   "outputs": [
    {
     "name": "stdout",
     "output_type": "stream",
     "text": [
      "U-statistic: 4240614.5\n",
      "P-value: 3.375925251483386e-54\n"
     ]
    }
   ],
   "source": [
    "print(f\"U-statistic: {u_statistic}\")\n",
    "print(f\"P-value: {p_value}\")"
   ]
  },
  {
   "cell_type": "markdown",
   "id": "5026cbfa-f748-4df7-8f60-23c338d7443c",
   "metadata": {},
   "source": [
    "## Lines Removed Mann-Whitney U Test"
   ]
  },
  {
   "cell_type": "code",
   "execution_count": 14,
   "id": "b1811c34-304f-4a09-b670-ee41d8a7e870",
   "metadata": {},
   "outputs": [],
   "source": [
    "sstub_remove_lines = [pr['linesRemoved'] for pr in dataset if pr['sstubs']]\n",
    "non_sstub_remove_lines = [pr['linesRemoved'] for pr in dataset if not pr['sstubs']]"
   ]
  },
  {
   "cell_type": "code",
   "execution_count": 15,
   "id": "25786e8c-8778-4b99-9aee-d83ae510e953",
   "metadata": {},
   "outputs": [],
   "source": [
    "u_statistic, p_value = stats.mannwhitneyu(sstub_remove_lines, non_sstub_remove_lines, alternative='two-sided')\n",
    "u_statistics.append(float(u_statistic))\n",
    "p_values.append(float(p_value))"
   ]
  },
  {
   "cell_type": "code",
   "execution_count": 16,
   "id": "38621ab1-2612-4db8-875b-145a107d54f0",
   "metadata": {},
   "outputs": [
    {
     "name": "stdout",
     "output_type": "stream",
     "text": [
      "U-statistic: 3847948.5\n",
      "P-value: 3.612516369342852e-34\n"
     ]
    }
   ],
   "source": [
    "print(f\"U-statistic: {u_statistic}\")\n",
    "print(f\"P-value: {p_value}\")"
   ]
  },
  {
   "cell_type": "markdown",
   "id": "a7282234-e02f-4301-8140-8b0be1b85527",
   "metadata": {},
   "source": [
    "## Analysis"
   ]
  },
  {
   "cell_type": "code",
   "execution_count": 17,
   "id": "9158c838-0ce2-4838-9dfb-949ed645ca64",
   "metadata": {},
   "outputs": [
    {
     "name": "stdout",
     "output_type": "stream",
     "text": [
      "U-statistics: [4196797.5, 4157586.5, 4240614.5, 3847948.5]\n",
      "P-valuse: [1.2611699078799305e-51, 6.389377699407586e-52, 3.375925251483386e-54, 3.612516369342852e-34]\n"
     ]
    }
   ],
   "source": [
    "print(f\"U-statistics: {u_statistics}\")\n",
    "print(f\"P-valuse: {p_values}\")"
   ]
  },
  {
   "cell_type": "code",
   "execution_count": 18,
   "id": "e90f88ce-34ca-4aaa-86d8-21181330dc0e",
   "metadata": {},
   "outputs": [
    {
     "data": {
      "text/html": [
       "<div>\n",
       "<style scoped>\n",
       "    .dataframe tbody tr th:only-of-type {\n",
       "        vertical-align: middle;\n",
       "    }\n",
       "\n",
       "    .dataframe tbody tr th {\n",
       "        vertical-align: top;\n",
       "    }\n",
       "\n",
       "    .dataframe thead th {\n",
       "        text-align: right;\n",
       "    }\n",
       "</style>\n",
       "<table border=\"1\" class=\"dataframe\">\n",
       "  <thead>\n",
       "    <tr style=\"text-align: right;\">\n",
       "      <th></th>\n",
       "      <th>metric</th>\n",
       "      <th>U-statistic</th>\n",
       "      <th>p-value</th>\n",
       "    </tr>\n",
       "  </thead>\n",
       "  <tbody>\n",
       "    <tr>\n",
       "      <th>0</th>\n",
       "      <td>Lines Changed</td>\n",
       "      <td>4196797.5</td>\n",
       "      <td>1.261170e-51</td>\n",
       "    </tr>\n",
       "    <tr>\n",
       "      <th>1</th>\n",
       "      <td>Filed Changed</td>\n",
       "      <td>4157586.5</td>\n",
       "      <td>6.389378e-52</td>\n",
       "    </tr>\n",
       "    <tr>\n",
       "      <th>2</th>\n",
       "      <td>Lines Added</td>\n",
       "      <td>4240614.5</td>\n",
       "      <td>3.375925e-54</td>\n",
       "    </tr>\n",
       "    <tr>\n",
       "      <th>3</th>\n",
       "      <td>Lines Removed</td>\n",
       "      <td>3847948.5</td>\n",
       "      <td>3.612516e-34</td>\n",
       "    </tr>\n",
       "  </tbody>\n",
       "</table>\n",
       "</div>"
      ],
      "text/plain": [
       "          metric  U-statistic       p-value\n",
       "0  Lines Changed    4196797.5  1.261170e-51\n",
       "1  Filed Changed    4157586.5  6.389378e-52\n",
       "2    Lines Added    4240614.5  3.375925e-54\n",
       "3  Lines Removed    3847948.5  3.612516e-34"
      ]
     },
     "metadata": {},
     "output_type": "display_data"
    }
   ],
   "source": [
    "df = pd.DataFrame()\n",
    "df['metric'] = labels\n",
    "df['U-statistic'] = u_statistics\n",
    "df['p-value'] = p_values\n",
    "\n",
    "display(df)"
   ]
  },
  {
   "cell_type": "code",
   "execution_count": 22,
   "id": "3d078841-3b2c-4258-88ad-853267a3b986",
   "metadata": {},
   "outputs": [
    {
     "data": {
      "image/png": "[encoded data removed]",
      "text/plain": [
       "<Figure size 640x480 with 1 Axes>"
      ]
     },
     "metadata": {},
     "output_type": "display_data"
    }
   ],
   "source": [
    "threshold = [np.percentile(sstub_files_changed, 95), np.percentile(non_sstub_files_changed, 95)]\n",
    "\n",
    "filtered_lc = [\n",
    "    [x for x in sstub_lines_changed if x <= threshold[0]],\n",
    "    [x for x in non_sstub_lines_changed if x <= threshold[1]]\n",
    "]\n",
    "plt.xlabel(\"Category\")\n",
    "plt.ylabel(\"Files Changed\")\n",
    "plt.xticks([1, 2], [\"SSTUB\", \"Non-SSTUB\"])\n",
    "\n",
    "plt.boxplot([filtered_lc[0], filtered_lc[1]])\n",
    "plt.show()"
   ]
  },
  {
   "cell_type": "code",
   "execution_count": 29,
   "id": "980c8aa8-c6e7-4e95-b53d-2ae1fc1bd376",
   "metadata": {},
   "outputs": [
    {
     "data": {
      "image/png": "[encoded data removed]",
      "text/plain": [
       "<Figure size 1200x800 with 4 Axes>"
      ]
     },
     "metadata": {},
     "output_type": "display_data"
    }
   ],
   "source": [
    "t = 90\n",
    "thresholds = {\n",
    "    \"lines_changed\": [np.percentile(sstub_lines_changed, t), np.percentile(non_sstub_lines_changed, t)],\n",
    "    \"lines_added\": [np.percentile(sstub_add_lines, t), np.percentile(non_sstub_add_lines, t)],\n",
    "    \"lines_removed\": [np.percentile(sstub_remove_lines, t), np.percentile(non_sstub_remove_lines, t)],\n",
    "    \"files_changed\": [np.percentile(sstub_files_changed, t), np.percentile(non_sstub_files_changed, t)],\n",
    "}\n",
    "\n",
    "# Filtered data\n",
    "filtered_data = {\n",
    "    \"lines_changed\": [\n",
    "        [x for x in sstub_lines_changed if x <= thresholds[\"lines_changed\"][0]],\n",
    "        [x for x in non_sstub_lines_changed if x <= thresholds[\"lines_changed\"][1]]\n",
    "    ],\n",
    "    \"lines_added\": [\n",
    "        [x for x in sstub_add_lines if x <= thresholds[\"lines_added\"][0]],\n",
    "        [x for x in non_sstub_add_lines if x <= thresholds[\"lines_added\"][1]]\n",
    "    ],\n",
    "    \"lines_removed\": [\n",
    "        [x for x in sstub_remove_lines if x <= thresholds[\"lines_removed\"][0]],\n",
    "        [x for x in non_sstub_remove_lines if x <= thresholds[\"lines_removed\"][1]]\n",
    "    ],\n",
    "    \"files_changed\": [\n",
    "        [x for x in sstub_files_changed if x <= thresholds[\"files_changed\"][0]],\n",
    "        [x for x in non_sstub_files_changed if x <= thresholds[\"files_changed\"][1]]\n",
    "    ],\n",
    "}\n",
    "\n",
    "# Set up the 2x2 grid\n",
    "fig, axs = plt.subplots(2, 2, figsize=(12, 8))\n",
    "#fig.suptitle(\"Comparison of PR Size Metrics (Filtered at 90th Percentile)\", fontsize=16)\n",
    "\n",
    "# Define the subplot layout\n",
    "metric_titles = [\"Lines Changed\", \"Files Changed\", \"Lines Added\", \"Lines Removed\"]\n",
    "metric_keys = [\"lines_changed\", \"files_changed\", \"lines_added\", \"lines_removed\"]\n",
    "\n",
    "for i, ax in enumerate(axs.flat):\n",
    "    metric = metric_keys[i]\n",
    "    ax.boxplot(filtered_data[metric])\n",
    "    ax.set_title(metric_titles[i])\n",
    "    ax.set_xticks([1, 2])\n",
    "    ax.set_xticklabels([\"SSTUB\", \"Non-SSTUB\"])\n",
    "    ax.set_ylabel(\"Count\")\n",
    "\n",
    "plt.tight_layout(rect=[0, 0, 1, 0.96])\n",
    "plt.show()"
   ]
  },
  {
   "cell_type": "code",
   "execution_count": null,
   "id": "7c64a313-7091-442d-bd53-5aae93e75a74",
   "metadata": {},
   "outputs": [],
   "source": []
  }
 ],
 "metadata": {
  "kernelspec": {
   "display_name": "Python 3 (ipykernel)",
   "language": "python",
   "name": "python3"
  },
  "language_info": {
   "codemirror_mode": {
    "name": "ipython",
    "version": 3
   },
   "file_extension": ".py",
   "mimetype": "text/x-python",
   "name": "python",
   "nbconvert_exporter": "python",
   "pygments_lexer": "ipython3",
   "version": "3.12.0"
  }
 },
 "nbformat": 4,
 "nbformat_minor": 5
}
