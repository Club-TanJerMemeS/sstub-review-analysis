{
 "cells": [
  {
   "cell_type": "code",
   "execution_count": 1,
   "id": "786d9a75-12db-4319-9ad5-0b0a92895234",
   "metadata": {},
   "outputs": [],
   "source": [
    "import random\n",
    "import requests\n",
    "import json\n",
    "from tqdm import tqdm\n",
    "import numpy as np\n",
    "import os"
   ]
  },
  {
   "cell_type": "code",
   "execution_count": null,
   "id": "b228eb3b-9d73-4bff-9339-78795946cdb6",
   "metadata": {},
   "outputs": [],
   "source": [
    "pull_request_url = lambda owner, repo : f\"https://api.github.com/repos/{owner}/{repo}/pulls\"\n",
    "\n",
    "#replace with valid github tokens\n",
    "github_tokens = [\n",
    "    \"token_1\",\n",
    "    \"token_2\",\n",
    "    \"token_3\"\n",
    "]\n",
    "\n",
    "token_index = -1\n",
    "def request_headers():\n",
    "    global token_index\n",
    "    token_index = (token_index + 1) % 3\n",
    "    return {\"Authorization\": f\"token {github_tokens[token_index]}\"}\n",
    "\n",
    "page = 1\n",
    "def request_params(page):\n",
    "    return {\"page\": page, \"per_page\": 100}"
   ]
  },
  {
   "cell_type": "code",
   "execution_count": 3,
   "id": "2fcdf3e3-63b3-44e0-be28-fb7e7df7df0d",
   "metadata": {},
   "outputs": [],
   "source": [
    "# load \n",
    "with open(f'sstub_projects.json', 'r', encoding='utf-8-sig') as file:\n",
    "    sstub_repos = json.load(file)"
   ]
  },
  {
   "cell_type": "code",
   "execution_count": 4,
   "id": "fb9327bf-d66e-42ed-ae3a-4869dd9a0416",
   "metadata": {},
   "outputs": [],
   "source": [
    "def augment_data(url):\n",
    "    url = url + \"?state=closed\"\n",
    "    # Get Pull Requests from repo\n",
    "    page = 1\n",
    "    augmented_prs = []\n",
    "    to_remove = set()\n",
    "    while(True):\n",
    "        os.system('cls')\n",
    "        print(\"page \" + str(page))\n",
    "        # Get Pull Requests 100 at a time\n",
    "        response = requests.get(url, headers = request_headers(), params = request_params(page))\n",
    "        if response.status_code != 200:\n",
    "            print(f\"Failed to fetch PRs: {response.status_code}\")\n",
    "            break\n",
    "    \n",
    "        pull_requests = response.json()\n",
    "        if not pull_requests:\n",
    "            break\n",
    "\n",
    "        # Add PRs to augmented array\n",
    "        augmented_prs = augmented_prs + [{\n",
    "            'url': pr['url'],\n",
    "            'commitSHAs': [],\n",
    "            'linesAdded': -1,\n",
    "            'linesRemoved': -1,\n",
    "            'linesChanged': -1,\n",
    "            'filesChanged': -1,\n",
    "            'sstubs': []\n",
    "        } for pr in pull_requests if pr['merged_at']]\n",
    "\n",
    "        page += 1\n",
    "        \n",
    "    \n",
    "    for i, pr in enumerate(tqdm(augmented_prs)):\n",
    "\n",
    "        # Get pull request data from pr_url\n",
    "        response = requests.get(pr['url'], headers = request_headers())\n",
    "        if response.status_code != 200:\n",
    "            print(f\"Failed to fetch PRs: {response.status_code}\")\n",
    "            return\n",
    "    \n",
    "        pull_request = response.json()\n",
    "    \n",
    "        pr['linesAdded'] = pull_request['additions']\n",
    "        pr['linesRemoved'] = pull_request['deletions']\n",
    "        pr['linesChanged'] = pull_request['additions'] + pull_request['deletions']\n",
    "        pr['filesChanged'] = pull_request['changed_files']\n",
    "    \n",
    "        # Get commits from pull request\n",
    "        \n",
    "        # If only one commit, get from head\n",
    "        if (pull_request['commits'] == 1):\n",
    "            pr['commitSHAs'].append(pull_request['head']['sha'])\n",
    "            continue\n",
    "\n",
    "        # Else make request for commits\n",
    "        response = requests.get(pull_request['commits_url'], headers = request_headers())\n",
    "        if response.status_code != 200:\n",
    "            print(f\"Failed to fetch PRs: {response.status_code}\")\n",
    "            return\n",
    "    \n",
    "        commits = response.json()\n",
    "    \n",
    "        for commit in commits:\n",
    "            pr['commitSHAs'].append(commit['sha'])\n",
    "        \n",
    "    return augmented_prs"
   ]
  },
  {
   "cell_type": "code",
   "execution_count": 5,
   "id": "201fc4fe-a810-4986-b5f6-8b42ccc3a16d",
   "metadata": {},
   "outputs": [],
   "source": [
    "try:\n",
    "    with open(\"augmented_dataset.json\", \"r\") as file:\n",
    "        augmented_data = json.load(file)\n",
    "except (FileNotFoundError, json.JSONDecodeError):\n",
    "    augmented_data = []"
   ]
  },
  {
   "cell_type": "code",
   "execution_count": 9,
   "id": "773730ac-1938-4aa5-a3f4-d1d31bc7e5fa",
   "metadata": {},
   "outputs": [
    {
     "name": "stdout",
     "output_type": "stream",
     "text": [
      "34062\n"
     ]
    }
   ],
   "source": [
    "print(len(augmented_data))"
   ]
  },
  {
   "cell_type": "code",
   "execution_count": 16,
   "id": "3c5af620-c60c-407b-a980-bc876256d70a",
   "metadata": {},
   "outputs": [
    {
     "name": "stdout",
     "output_type": "stream",
     "text": [
      "https://github.com/alibaba/dubbo\n"
     ]
    }
   ],
   "source": [
    "print(sstub_repos[list(sstub_repos.keys())[9]]['github'][0])"
   ]
  },
  {
   "cell_type": "code",
   "execution_count": 13,
   "id": "70721aa2-2bbe-413b-88ec-6e3de83a19d4",
   "metadata": {},
   "outputs": [
    {
     "name": "stdout",
     "output_type": "stream",
     "text": [
      "page 1\n",
      "page 2\n"
     ]
    },
    {
     "name": "stderr",
     "output_type": "stream",
     "text": [
      "100%|█████████████████████████████████████████████████████████████████████████████████████████████████| 7/7 [00:03<00:00,  1.85it/s]\n"
     ]
    }
   ],
   "source": [
    "repo_url = sstub_repos[list(sstub_repos.keys())[8]]['github'][0]\n",
    "owner, repo = repo_url.split('/')[-2:]\n",
    "augmented_data = augmented_data + augment_data(pull_request_url(owner, repo))"
   ]
  },
  {
   "cell_type": "code",
   "execution_count": 14,
   "id": "26110235-65bd-4e78-bb47-ff5dccc0aaf3",
   "metadata": {},
   "outputs": [
    {
     "name": "stdout",
     "output_type": "stream",
     "text": [
      "{'url': 'https://api.github.com/repos/Trinea/android-common/pulls/1', 'commitSHAs': ['e566465fa6dcd73078ab10c0e105a30629cd4952', '8e9d39ae42e067d1c5a26875bfe33d0b2dee7a28', '200563eec362efcea3a84302e8e0632598a568ef', '86d391c0eed9f2086d3047aa93e9af9b58f9f532', '71d9d350cbdc61a25a338839d8ba73f732090854', '2e8d85853eee1666603421aecbdba2839ed30a13', '7415b447e6a6dae13dc060da6190d072c5aee71f'], 'linesAdded': 282, 'linesRemoved': 0, 'linesChanged': 282, 'filesChanged': 2, 'sstubs': []}\n"
     ]
    }
   ],
   "source": [
    "print(augmented_data[-1])"
   ]
  },
  {
   "cell_type": "code",
   "execution_count": 15,
   "id": "4b2cbef7-5b0f-4ba4-886e-ca7d87739410",
   "metadata": {},
   "outputs": [],
   "source": [
    "with open(\"augmented_dataset.json\", \"w\") as file:\n",
    "    json.dump(augmented_data, file, indent=4)"
   ]
  },
  {
   "cell_type": "code",
   "execution_count": 23,
   "id": "d0c1a75e-53de-459e-bbf7-a9a1035f86f9",
   "metadata": {},
   "outputs": [
    {
     "name": "stderr",
     "output_type": "stream",
     "text": [
      "100%|███████████████████████████████████████████████████████████████████████████████| 82/82 [00:00<00:00, 81539.34it/s]"
     ]
    },
    {
     "name": "stdout",
     "output_type": "stream",
     "text": [
      "https://api.github.com/repos/checkstyle/checkstyle/pulls\n",
      "https://api.github.com/repos/knightliao/disconf/pulls\n",
      "https://api.github.com/repos/NLPchina/ansj_seg/pulls\n",
      "https://api.github.com/repos/wildfly/wildfly/pulls\n",
      "https://api.github.com/repos/antlr/antlr4/pulls\n",
      "https://api.github.com/repos/alibaba/druid/pulls\n",
      "https://api.github.com/repos/hankcs/HanLP/pulls\n",
      "https://api.github.com/repos/facebook/presto/pulls\n",
      "https://api.github.com/repos/Trinea/android-common/pulls\n",
      "https://api.github.com/repos/alibaba/dubbo/pulls\n",
      "https://api.github.com/repos/springside/springside4/pulls\n",
      "https://api.github.com/repos/cucumber/cucumber-jvm/pulls\n",
      "https://api.github.com/repos/square/retrofit/pulls\n",
      "https://api.github.com/repos/JakeWharton/NineOldAndroids/pulls\n",
      "https://api.github.com/repos/google/guava/pulls\n",
      "https://api.github.com/repos/pxb1988/dex2jar/pulls\n",
      "https://api.github.com/repos/yasserg/crawler4j/pulls\n",
      "https://api.github.com/repos/clojure/clojure/pulls\n",
      "https://api.github.com/repos/brianfrankcooper/YCSB/pulls\n",
      "https://api.github.com/repos/mcxiaoke/android-volley/pulls\n",
      "https://api.github.com/repos/deeplearning4j/deeplearning4j/pulls\n",
      "https://api.github.com/repos/google/closure-compiler/pulls\n",
      "https://api.github.com/repos/nhaarman/ListViewAnimations/pulls\n",
      "https://api.github.com/repos/mybatis/mybatis-3/pulls\n",
      "https://api.github.com/repos/libgdx/libgdx/pulls\n",
      "https://api.github.com/repos/joelittlejohn/jsonschema2pojo/pulls\n",
      "https://api.github.com/repos/brettwooldridge/HikariCP/pulls\n",
      "https://api.github.com/repos/roboguice/roboguice/pulls\n",
      "https://api.github.com/repos/netty/netty/pulls\n",
      "https://api.github.com/repos/apache/camel/pulls\n",
      "https://api.github.com/repos/naver/pinpoint/pulls\n",
      "https://api.github.com/repos/Graylog2/graylog2-server/pulls\n",
      "https://api.github.com/repos/chrisbanes/Android-PullToRefresh/pulls\n",
      "https://api.github.com/repos/square/javapoet/pulls\n",
      "https://api.github.com/repos/EnterpriseQualityCoding/FizzBuzzEnterpriseEdition/pulls\n",
      "https://api.github.com/repos/apache/hive/pulls\n",
      "https://api.github.com/repos/pardom/ActiveAndroid/pulls\n",
      "https://api.github.com/repos/spring-projects/spring-security-oauth/pulls\n",
      "https://api.github.com/repos/alibaba/fastjson/pulls\n",
      "https://api.github.com/repos/junit-team/junit/pulls\n",
      "https://api.github.com/repos/thinkaurelius/titan/pulls\n",
      "https://api.github.com/repos/code4craft/webmagic/pulls\n",
      "https://api.github.com/repos/dropwizard/dropwizard/pulls\n",
      "https://api.github.com/repos/apache/hadoop/pulls\n",
      "https://api.github.com/repos/iluwatar/java-design-patterns/pulls\n",
      "https://api.github.com/repos/Atmosphere/atmosphere/pulls\n",
      "https://api.github.com/repos/xetorthio/jedis/pulls\n",
      "https://api.github.com/repos/gephi/gephi/pulls\n",
      "https://api.github.com/repos/Alluxio/alluxio/pulls\n",
      "https://api.github.com/repos/javaee-samples/javaee7-samples/pulls\n",
      "https://api.github.com/repos/jersey/jersey/pulls\n",
      "https://api.github.com/repos/alibaba/canal/pulls\n",
      "https://api.github.com/repos/Activiti/Activiti/pulls\n",
      "https://api.github.com/repos/google/guice/pulls\n",
      "https://api.github.com/repos/neo4j/neo4j/pulls\n",
      "https://api.github.com/repos/swagger-api/swagger-core/pulls\n",
      "https://api.github.com/repos/apache/hbase/pulls\n",
      "https://api.github.com/repos/stanfordnlp/CoreNLP/pulls\n",
      "https://api.github.com/repos/yusuke/twitter4j/pulls\n",
      "https://api.github.com/repos/b3log/solo/pulls\n",
      "https://api.github.com/repos/google/auto/pulls\n",
      "https://api.github.com/repos/jfeinstein10/SlidingMenu/pulls\n",
      "https://api.github.com/repos/square/okhttp/pulls\n",
      "https://api.github.com/repos/AsyncHttpClient/async-http-client/pulls\n",
      "https://api.github.com/repos/openmrs/openmrs-core/pulls\n",
      "https://api.github.com/repos/alibaba/jstorm/pulls\n",
      "https://api.github.com/repos/aws/aws-sdk-java/pulls\n",
      "https://api.github.com/repos/hazelcast/hazelcast/pulls\n",
      "https://api.github.com/repos/bauerca/drag-sort-listview/pulls\n",
      "https://api.github.com/repos/apache/flink/pulls\n",
      "https://api.github.com/repos/Bukkit/Bukkit/pulls\n",
      "https://api.github.com/repos/openhab/openhab/pulls\n",
      "https://api.github.com/repos/apache/storm/pulls\n",
      "https://api.github.com/repos/swagger-api/swagger-codegen/pulls\n",
      "https://api.github.com/repos/JakeWharton/ActionBarSherlock/pulls\n",
      "https://api.github.com/repos/perwendel/spark/pulls\n",
      "https://api.github.com/repos/jhy/jsoup/pulls\n",
      "https://api.github.com/repos/square/dagger/pulls\n",
      "https://api.github.com/repos/NanoHttpd/nanohttpd/pulls\n",
      "https://api.github.com/repos/dropwizard/metrics/pulls\n",
      "https://api.github.com/repos/spring-projects/spring-boot/pulls\n",
      "https://api.github.com/repos/scribejava/scribejava/pulls\n"
     ]
    },
    {
     "name": "stderr",
     "output_type": "stream",
     "text": [
      "\n"
     ]
    }
   ],
   "source": [
    "for repo_name in tqdm(sstub_repos):\n",
    "    repo_url = sstub_repos[repo_name]['github'][0]\n",
    "    owner, repo = repo_url.split('/')[-2:]\n",
    "    augmented_data = augment_data(pull_request_url(owner, repo))"
   ]
  },
  {
   "cell_type": "code",
   "execution_count": null,
   "id": "ac35d147-c8f1-4284-a0bb-7c3899bc8344",
   "metadata": {},
   "outputs": [],
   "source": []
  }
 ],
 "metadata": {
  "kernelspec": {
   "display_name": "Python 3 (ipykernel)",
   "language": "python",
   "name": "python3"
  },
  "language_info": {
   "codemirror_mode": {
    "name": "ipython",
    "version": 3
   },
   "file_extension": ".py",
   "mimetype": "text/x-python",
   "name": "python",
   "nbconvert_exporter": "python",
   "pygments_lexer": "ipython3",
   "version": "3.12.0"
  }
 },
 "nbformat": 4,
 "nbformat_minor": 5
}
